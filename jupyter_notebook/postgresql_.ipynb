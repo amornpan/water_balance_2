{
 "cells": [
  {
   "cell_type": "code",
   "execution_count": null,
   "id": "005bb110-939f-409d-9942-d6dd460f788c",
   "metadata": {},
   "outputs": [],
   "source": [
    "import pandas as pd\n",
    "import psycopg2\n",
    "import uuid\n",
    "import os\n",
    "\n",
    "# CSV file path\n",
    "csv_file_path = 'your_file.csv'\n",
    "\n",
    "# Extract table name from CSV file name (remove file extension if present)\n",
    "table_name = os.path.splitext(os.path.basename(csv_file_path))[0]\n",
    "\n",
    "# Connect to PostgreSQL\n",
    "conn = psycopg2.connect(\n",
    "    host=\"your_host\",\n",
    "    database=\"your_database\",\n",
    "    user=\"your_username\",\n",
    "    password=\"your_password\"\n",
    ")\n",
    "\n",
    "# Create a cursor\n",
    "cursor = conn.cursor()\n"
   ]
  },
  {
   "cell_type": "code",
   "execution_count": null,
   "id": "558f22b2-448f-443a-9da3-045dbfe72f52",
   "metadata": {},
   "outputs": [],
   "source": []
  },
  {
   "cell_type": "code",
   "execution_count": null,
   "id": "78f8be2d-f3e5-4ece-85d0-121902e348ab",
   "metadata": {},
   "outputs": [],
   "source": [
    "\n",
    "# Read the CSV file into a DataFrame\n",
    "df = pd.read_csv(csv_file_path)\n",
    "\n",
    "# Check if the table already exists\n",
    "cursor.execute(f\"SELECT EXISTS (SELECT 1 FROM information_schema.tables WHERE table_name = '{table_name}')\")\n",
    "table_exists = cursor.fetchone()[0]\n",
    "\n",
    "# If the table exists, append data; otherwise, create a new table\n",
    "if table_exists:\n",
    "    # Append data to the existing table\n",
    "    for index, row in df.iterrows():\n",
    "        # Generate a new UUID for the primary key column\n",
    "        row['your_primary_key_column'] = str(uuid.uuid4())\n",
    "        insert_sql = f\"INSERT INTO {table_name} ({', '.join(df.columns)}) VALUES ({', '.join(['%s'] * len(df.columns))})\"\n",
    "        cursor.execute(insert_sql, tuple(row))\n",
    "else:\n",
    "    # Automatically set data types to string for all columns (except primary key)\n",
    "    data_types = {col: 'text' for col in df.columns if col != 'your_primary_key_column'}\n",
    "\n",
    "    # Use UUID as the primary key\n",
    "    data_types['your_primary_key_column'] = 'UUID'\n",
    "\n",
    "    # Create the table with the specified data types\n",
    "    create_table_sql = f\"\"\"\n",
    "    CREATE TABLE {table_name} (\n",
    "        {\" ,\".join([f\"{col} {data_types[col]}\" for col in df.columns])\n",
    "    );\n",
    "    \"\"\"\n",
    "\n",
    "    cursor.execute(create_table_sql)\n",
    "\n",
    "    # Insert data into the new PostgreSQL table\n",
    "    for index, row in df.iterrows():\n",
    "        # Generate a new UUID for the primary key column\n",
    "        row['your_primary_key_column'] = str(uuid.uuid4())\n",
    "        insert_sql = f\"INSERT INTO {table_name} ({', '.join(df.columns)}) VALUES ({', '.join(['%s'] * len(df.columns))})\"\n",
    "        cursor.execute(insert_sql, tuple(row))\n",
    "\n",
    "conn.commit()\n",
    "conn.close()"
   ]
  },
  {
   "cell_type": "code",
   "execution_count": 1,
   "id": "458ac139-7ed0-4365-8898-d0aef313fdce",
   "metadata": {},
   "outputs": [
    {
     "name": "stdout",
     "output_type": "stream",
     "text": [
      "Connection is open.\n"
     ]
    }
   ],
   "source": [
    "import psycopg2\n",
    "\n",
    "# Define your PostgreSQL connection parameters\n",
    "connection_params = {\n",
    "    \"host\": \"113.53.253.56\",\n",
    "    \"database\": \"waterbalance\",\n",
    "    \"user\": \"postgres\",\n",
    "    \"password\": \"p@ssw0rd!@#$\"\n",
    "}\n",
    "\n",
    "try:\n",
    "    # Attempt to connect to the PostgreSQL database\n",
    "    conn = psycopg2.connect(**connection_params)\n",
    "\n",
    "    # Check the connection status\n",
    "    if conn.closed == 0:\n",
    "        print(\"Connection is open.\")\n",
    "    else:\n",
    "        print(\"Connection is closed.\")\n",
    "\n",
    "    # Close the connection\n",
    "    conn.close()\n",
    "except psycopg2.Error as e:\n",
    "    print(f\"Error: {e}\")\n"
   ]
  },
  {
   "cell_type": "code",
   "execution_count": null,
   "id": "bb0ce052-50e7-453c-b1f4-fe2b1a3b55ed",
   "metadata": {},
   "outputs": [],
   "source": []
  }
 ],
 "metadata": {
  "kernelspec": {
   "display_name": "Python 3 (ipykernel)",
   "language": "python",
   "name": "python3"
  },
  "language_info": {
   "codemirror_mode": {
    "name": "ipython",
    "version": 3
   },
   "file_extension": ".py",
   "mimetype": "text/x-python",
   "name": "python",
   "nbconvert_exporter": "python",
   "pygments_lexer": "ipython3",
   "version": "3.8.10"
  }
 },
 "nbformat": 4,
 "nbformat_minor": 5
}
